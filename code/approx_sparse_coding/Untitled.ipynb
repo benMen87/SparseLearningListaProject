{
 "cells": [
  {
   "cell_type": "markdown",
   "metadata": {},
   "source": [
    "## LMNIST \n",
    "LCOD cascaded with a simple FC used to classify MNIST.\n",
    "Idea is to add prior of sparcity on image"
   ]
  },
  {
   "cell_type": "code",
   "execution_count": 2,
   "metadata": {
    "collapsed": false
   },
   "outputs": [],
   "source": [
    "import lmnist\n",
    "import tensorflow as tf\n",
    "import shutil\n",
    "import matplotlib.pyplot as plt\n",
    "import numpy as np\n",
    "from sparse_coding import cod, ista\n",
    "from sklearn.decomposition import MiniBatchDictionaryLearning\n",
    "from sklearn import linear_model\n",
    "from train import zero_none_grad\n",
    "from train import test as sparse_code_test\n",
    "from sklearn.manifold import TSNE\n",
    "from matplotlib import pylab\n",
    "import os\n",
    "import sys\n",
    "\n",
    "# DIR_PATH = os.path.dirname(os.path.realpath(__file__))\n",
    "# sys.path.append(DIR_PATH + '/..')\n",
    "# from dict_learning import traindict"
   ]
  },
  {
   "cell_type": "code",
   "execution_count": 5,
   "metadata": {
    "collapsed": false
   },
   "outputs": [
    {
     "ename": "KeyboardInterrupt",
     "evalue": "",
     "output_type": "error",
     "traceback": [
      "\u001b[0;31m---------------------------------------------------------------------------\u001b[0m",
      "\u001b[0;31mKeyboardInterrupt\u001b[0m                         Traceback (most recent call last)",
      "\u001b[0;32m<ipython-input-5-be98187877c6>\u001b[0m in \u001b[0;36m<module>\u001b[0;34m()\u001b[0m\n\u001b[1;32m     17\u001b[0m \u001b[0;34m\u001b[0m\u001b[0m\n\u001b[1;32m     18\u001b[0m Wd = load_maybe_build_dictionary('/mnist_data/Wd.npy',\n\u001b[0;32m---> 19\u001b[0;31m                                  '../../mnist/train.npy')\n\u001b[0m",
      "\u001b[0;32m<ipython-input-5-be98187877c6>\u001b[0m in \u001b[0;36mload_maybe_build_dictionary\u001b[0;34m(dict_path, raw_data_path)\u001b[0m\n\u001b[1;32m     10\u001b[0m         dico = MiniBatchDictionaryLearning(n_components=784, alpha=0.1,\n\u001b[1;32m     11\u001b[0m                                            n_iter=1000)\n\u001b[0;32m---> 12\u001b[0;31m         \u001b[0mWd\u001b[0m \u001b[0;34m=\u001b[0m \u001b[0mdico\u001b[0m\u001b[0;34m.\u001b[0m\u001b[0mfit\u001b[0m\u001b[0;34m(\u001b[0m\u001b[0minput\u001b[0m\u001b[0;34m)\u001b[0m\u001b[0;34m.\u001b[0m\u001b[0mcomponents_\u001b[0m\u001b[0;34m.\u001b[0m\u001b[0mT\u001b[0m\u001b[0;34m\u001b[0m\u001b[0m\n\u001b[0m\u001b[1;32m     13\u001b[0m         \u001b[0mnp\u001b[0m\u001b[0;34m.\u001b[0m\u001b[0msave\u001b[0m\u001b[0;34m(\u001b[0m\u001b[0mdict_path\u001b[0m\u001b[0;34m,\u001b[0m \u001b[0mWd\u001b[0m\u001b[0;34m)\u001b[0m\u001b[0;34m\u001b[0m\u001b[0m\n\u001b[1;32m     14\u001b[0m     \u001b[0;32melse\u001b[0m\u001b[0;34m:\u001b[0m\u001b[0;34m\u001b[0m\u001b[0m\n",
      "\u001b[0;32m/usr/local/lib/python2.7/dist-packages/sklearn/decomposition/dict_learning.pyc\u001b[0m in \u001b[0;36mfit\u001b[0;34m(self, X, y)\u001b[0m\n\u001b[1;32m   1236\u001b[0m             \u001b[0mverbose\u001b[0m\u001b[0;34m=\u001b[0m\u001b[0mself\u001b[0m\u001b[0;34m.\u001b[0m\u001b[0mverbose\u001b[0m\u001b[0;34m,\u001b[0m \u001b[0mrandom_state\u001b[0m\u001b[0;34m=\u001b[0m\u001b[0mrandom_state\u001b[0m\u001b[0;34m,\u001b[0m\u001b[0;34m\u001b[0m\u001b[0m\n\u001b[1;32m   1237\u001b[0m             \u001b[0mreturn_inner_stats\u001b[0m\u001b[0;34m=\u001b[0m\u001b[0mTrue\u001b[0m\u001b[0;34m,\u001b[0m\u001b[0;34m\u001b[0m\u001b[0m\n\u001b[0;32m-> 1238\u001b[0;31m             return_n_iter=True)\n\u001b[0m\u001b[1;32m   1239\u001b[0m         \u001b[0mself\u001b[0m\u001b[0;34m.\u001b[0m\u001b[0mcomponents_\u001b[0m \u001b[0;34m=\u001b[0m \u001b[0mU\u001b[0m\u001b[0;34m\u001b[0m\u001b[0m\n\u001b[1;32m   1240\u001b[0m         \u001b[0;31m# Keep track of the state of the algorithm to be able to do\u001b[0m\u001b[0;34m\u001b[0m\u001b[0;34m\u001b[0m\u001b[0m\n",
      "\u001b[0;32m/usr/local/lib/python2.7/dist-packages/sklearn/decomposition/dict_learning.pyc\u001b[0m in \u001b[0;36mdict_learning_online\u001b[0;34m(X, n_components, alpha, n_iter, return_code, dict_init, callback, batch_size, verbose, shuffle, n_jobs, method, iter_offset, random_state, return_inner_stats, inner_stats, return_n_iter)\u001b[0m\n\u001b[1;32m    740\u001b[0m         \u001b[0;31m# Update dictionary\u001b[0m\u001b[0;34m\u001b[0m\u001b[0;34m\u001b[0m\u001b[0m\n\u001b[1;32m    741\u001b[0m         dictionary = _update_dict(dictionary, B, A, verbose=verbose,\n\u001b[0;32m--> 742\u001b[0;31m                                   random_state=random_state)\n\u001b[0m\u001b[1;32m    743\u001b[0m         \u001b[0;31m# XXX: Can the residuals be of any use?\u001b[0m\u001b[0;34m\u001b[0m\u001b[0;34m\u001b[0m\u001b[0m\n\u001b[1;32m    744\u001b[0m \u001b[0;34m\u001b[0m\u001b[0m\n",
      "\u001b[0;32m/usr/local/lib/python2.7/dist-packages/sklearn/decomposition/dict_learning.pyc\u001b[0m in \u001b[0;36m_update_dict\u001b[0;34m(dictionary, Y, code, verbose, return_r2, random_state)\u001b[0m\n\u001b[1;32m    345\u001b[0m     \u001b[0;32mfor\u001b[0m \u001b[0mk\u001b[0m \u001b[0;32min\u001b[0m \u001b[0mrange\u001b[0m\u001b[0;34m(\u001b[0m\u001b[0mn_components\u001b[0m\u001b[0;34m)\u001b[0m\u001b[0;34m:\u001b[0m\u001b[0;34m\u001b[0m\u001b[0m\n\u001b[1;32m    346\u001b[0m         \u001b[0;31m# R <- 1.0 * U_k * V_k^T + R\u001b[0m\u001b[0;34m\u001b[0m\u001b[0;34m\u001b[0m\u001b[0m\n\u001b[0;32m--> 347\u001b[0;31m         \u001b[0mR\u001b[0m \u001b[0;34m=\u001b[0m \u001b[0mger\u001b[0m\u001b[0;34m(\u001b[0m\u001b[0;36m1.0\u001b[0m\u001b[0;34m,\u001b[0m \u001b[0mdictionary\u001b[0m\u001b[0;34m[\u001b[0m\u001b[0;34m:\u001b[0m\u001b[0;34m,\u001b[0m \u001b[0mk\u001b[0m\u001b[0;34m]\u001b[0m\u001b[0;34m,\u001b[0m \u001b[0mcode\u001b[0m\u001b[0;34m[\u001b[0m\u001b[0mk\u001b[0m\u001b[0;34m,\u001b[0m \u001b[0;34m:\u001b[0m\u001b[0;34m]\u001b[0m\u001b[0;34m,\u001b[0m \u001b[0ma\u001b[0m\u001b[0;34m=\u001b[0m\u001b[0mR\u001b[0m\u001b[0;34m,\u001b[0m \u001b[0moverwrite_a\u001b[0m\u001b[0;34m=\u001b[0m\u001b[0mTrue\u001b[0m\u001b[0;34m)\u001b[0m\u001b[0;34m\u001b[0m\u001b[0m\n\u001b[0m\u001b[1;32m    348\u001b[0m         \u001b[0mdictionary\u001b[0m\u001b[0;34m[\u001b[0m\u001b[0;34m:\u001b[0m\u001b[0;34m,\u001b[0m \u001b[0mk\u001b[0m\u001b[0;34m]\u001b[0m \u001b[0;34m=\u001b[0m \u001b[0mnp\u001b[0m\u001b[0;34m.\u001b[0m\u001b[0mdot\u001b[0m\u001b[0;34m(\u001b[0m\u001b[0mR\u001b[0m\u001b[0;34m,\u001b[0m \u001b[0mcode\u001b[0m\u001b[0;34m[\u001b[0m\u001b[0mk\u001b[0m\u001b[0;34m,\u001b[0m \u001b[0;34m:\u001b[0m\u001b[0;34m]\u001b[0m\u001b[0;34m.\u001b[0m\u001b[0mT\u001b[0m\u001b[0;34m)\u001b[0m\u001b[0;34m\u001b[0m\u001b[0m\n\u001b[1;32m    349\u001b[0m         \u001b[0;31m# Scale k'th atom\u001b[0m\u001b[0;34m\u001b[0m\u001b[0;34m\u001b[0m\u001b[0m\n",
      "\u001b[0;31mKeyboardInterrupt\u001b[0m: "
     ]
    }
   ],
   "source": [
    "def load_maybe_build_dictionary(dict_path, raw_data_path):\n",
    "    if not os.path.exists(dict_path):\n",
    "        print('ddint')\n",
    "        data = np.load(raw_data_path)\n",
    "        input = data[:, 1:]\n",
    "        label = np.zeros(shape=(input.shape[0], 10))\n",
    "        label[np.arange(data.shape[0]), data[:, 0].astype(np.int)] = 1\n",
    "\n",
    "        input -= np.mean(input, axis=1, keepdims=True)\n",
    "        input /= np.linalg.norm(input, axis=1, keepdims=True)\n",
    "        dico = MiniBatchDictionaryLearning(n_components=784, alpha=0.1,\n",
    "                                           n_iter=1000)\n",
    "        Wd = dico.fit(input).components_.T\n",
    "        np.save(dict_path, Wd)\n",
    "    else:\n",
    "        Wd = np.load(dict_path)\n",
    "    return Wd\n",
    "\n",
    "Wd = load_maybe_build_dictionary('/mnist_data/Wd.npy',\n",
    "                                 '../../mnist/train.npy')\n"
   ]
  },
  {
   "cell_type": "code",
   "execution_count": null,
   "metadata": {
    "collapsed": true
   },
   "outputs": [],
   "source": []
  }
 ],
 "metadata": {
  "kernelspec": {
   "display_name": "Python 2",
   "language": "python",
   "name": "python2"
  },
  "language_info": {
   "codemirror_mode": {
    "name": "ipython",
    "version": 2
   },
   "file_extension": ".py",
   "mimetype": "text/x-python",
   "name": "python",
   "nbconvert_exporter": "python",
   "pygments_lexer": "ipython2",
   "version": "2.7.12"
  }
 },
 "nbformat": 4,
 "nbformat_minor": 1
}
